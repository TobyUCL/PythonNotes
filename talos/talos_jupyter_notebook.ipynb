{
 "cells": [
  {
   "cell_type": "markdown",
   "metadata": {},
   "source": [
    "<img src='https://raw.githubusercontent.com/autonomio/hyperio/master/logo.png' width=250px>"
   ]
  },
  {
   "cell_type": "code",
   "execution_count": 1,
   "metadata": {},
   "outputs": [
    {
     "name": "stderr",
     "output_type": "stream",
     "text": [
      "Using TensorFlow backend.\n"
     ]
    }
   ],
   "source": [
    "import talos\n",
    "import pandas as pd\n",
    "\n",
    "%matplotlib inline"
   ]
  },
  {
   "cell_type": "markdown",
   "metadata": {},
   "source": [
    "## Table of Contents"
   ]
  },
  {
   "cell_type": "markdown",
   "metadata": {},
   "source": [
    "##### 1. <a href=#one>Data Preparation</a>\n",
    "##### 2. <a href=#two>Model Preparation</a>\n",
    "##### 3. <a href=#three>Setting the Parameter Space Boundaries</a>\n",
    "##### 4. <a href=#four>Run the Hyperparameter <code>Scan()</code></a>\n",
    "##### 5. <a href=#five>Access the results through the <code>Scan</code> object</a>\n",
    "##### 6. <a href=#six>Analysing the Scan results with <code>Reporting()</code></a>\n",
    "##### 7. <a href=#seven>Evaluating Models with <code>Evaluate()</code></a>\n",
    "##### 8. <a href=#eight>Deploying Models with <code>Deploy()</code></a>\n",
    "##### 9. <a href=#nine>Restoring Models with <code>Restore()</code></a>"
   ]
  },
  {
   "cell_type": "markdown",
   "metadata": {},
   "source": [
    "### 1. Data Preparation <a name=\"one\"></a> "
   ]
  },
  {
   "cell_type": "markdown",
   "metadata": {},
   "source": [
    "For this experiment, we're going to use the famous Iris dataset. "
   ]
  },
  {
   "cell_type": "code",
   "execution_count": 2,
   "metadata": {},
   "outputs": [],
   "source": [
    "x, y = talos.templates.datasets.iris()"
   ]
  },
  {
   "cell_type": "markdown",
   "metadata": {},
   "source": [
    "### 2. Model Preparation  <a name=\"two\"></a> \n",
    "Talos works with any Keras model, without changing the structure of the model in anyway, or without introducing any new syntax. The below example shows clearly how this works. \n",
    "\n",
    "For this example, we have to import two helper functions from Talos, one for early stopping callout, and the other for using normalized learning rate values. Because we might want to work on trying out several optimizers in a single scan, without normalization, inputting of the values would become cumbersome."
   ]
  },
  {
   "cell_type": "code",
   "execution_count": 3,
   "metadata": {},
   "outputs": [],
   "source": [
    "from talos.utils import lr_normalizer"
   ]
  },
  {
   "cell_type": "markdown",
   "metadata": {},
   "source": [
    "Note that the only difference in the model below is how instead of using a label or value to define a given model parameter, we do it using a dictionary label. Also for optimizer we are using a learning rate parameter, which involves the use of two dictionary labels."
   ]
  },
  {
   "cell_type": "code",
   "execution_count": 4,
   "metadata": {},
   "outputs": [],
   "source": [
    "from keras.models import Sequential\n",
    "from keras.layers import Dropout, Dense\n",
    "\n",
    "def iris_model(x_train, y_train, x_val, y_val, params):\n",
    "    \n",
    "    model = Sequential()                            \n",
    "    model.add(Dense(params['first_neuron'],\n",
    "                    input_dim=x_train.shape[1],\n",
    "                    activation='relu'))\n",
    "    \n",
    "    model.add(Dropout(params['dropout']))\n",
    "    model.add(Dense(y_train.shape[1],\n",
    "                    activation=params['last_activation']))\n",
    "\n",
    "    model.compile(optimizer=params['optimizer'](lr=lr_normalizer(params['lr'], params['optimizer'])),\n",
    "                  loss=params['loss'],\n",
    "                  metrics=['acc'])\n",
    "\n",
    "    out = model.fit(x_train, y_train,\n",
    "                    batch_size=params['batch_size'],\n",
    "                    epochs=params['epochs'],\n",
    "                    verbose=0,\n",
    "                    validation_data=[x_val, y_val])\n",
    "    \n",
    "    return out, model"
   ]
  },
  {
   "cell_type": "markdown",
   "metadata": {},
   "source": [
    "### 3. Setting the Parameter Space Boundaries <a name=\"three\"></a> \n",
    "In the last and final step, we're going to create the dictionary, which will then be passed on to Talos together with the model above. Here we have three different ways to input values:\n",
    "\n",
    "- as stepped ranges (min, max, steps)\n",
    "- as multiple values [in a list]\n",
    "- as a single value [in a list]\n",
    "\n",
    "For values we don't want to use, it's ok to set it as None.\n",
    "\n",
    "NOTE: at this point you have to import from Keras the optimizer, activations, and losses you want to scan for."
   ]
  },
  {
   "cell_type": "code",
   "execution_count": 5,
   "metadata": {},
   "outputs": [],
   "source": [
    "from keras.optimizers import Adam, Nadam\n",
    "from keras.activations import softmax\n",
    "from keras.losses import categorical_crossentropy, logcosh\n",
    "\n",
    "p = {'lr': (0.1, 10, 10),\n",
    "     'first_neuron':[4, 8, 16, 32, 64, 128],\n",
    "     'batch_size': [2, 3, 4],\n",
    "     'epochs': [200],\n",
    "     'dropout': (0, 0.40, 10),\n",
    "     'optimizer': [Adam, Nadam],\n",
    "     'loss': ['categorical_crossentropy'],\n",
    "     'last_activation': ['softmax'],\n",
    "     'weight_regulizer': [None]}"
   ]
  },
  {
   "cell_type": "markdown",
   "metadata": {},
   "source": [
    "### 4. Run the Hyperparameter <code>Scan()</code> <a name=\"four\"></a> \n",
    "Now we are ready to run the model based on the parameters and the layer configuration above. The exact same process would apply with any other model, just make sure to pass the model function name in the Scan() command as in the below example. To get started quickly, we're going to invoke the 'grid_downsample' parameter to 1/100 of the entire permutations."
   ]
  },
  {
   "cell_type": "code",
   "execution_count": 6,
   "metadata": {},
   "outputs": [
    {
     "name": "stderr",
     "output_type": "stream",
     "text": [
      "100%|██████████| 3/3 [00:25<00:00,  8.49s/it]\n"
     ]
    }
   ],
   "source": [
    "scan_object = talos.Scan(x,\n",
    "                         y, \n",
    "                         params=p,\n",
    "                         model=iris_model,\n",
    "                         experiment_name='iris',\n",
    "                         fraction_limit=.001)"
   ]
  },
  {
   "cell_type": "markdown",
   "metadata": {},
   "source": [
    "### 5. Access the results through the <code>Scan</code> object <a name=\"five\"></a> "
   ]
  },
  {
   "cell_type": "code",
   "execution_count": 8,
   "metadata": {},
   "outputs": [
    {
     "name": "stdout",
     "output_type": "stream",
     "text": [
      "   round_epochs  val_loss   val_acc      loss       acc  batch_size  dropout  \\\n",
      "0           200  0.196426  0.977778  0.427386  0.771429           2     0.32   \n",
      "1           200  0.182282  0.933333  0.092463  0.980952           3     0.16   \n",
      "2           200  0.116601  0.933333  0.082208  0.971429           2     0.36   \n",
      "\n",
      "   epochs  first_neuron last_activation                      loss    lr  \\\n",
      "0     200             8         softmax  categorical_crossentropy  4.06   \n",
      "1     200            16         softmax  categorical_crossentropy  7.03   \n",
      "2     200            32         softmax  categorical_crossentropy  3.07   \n",
      "\n",
      "                          optimizer weight_regulizer  \n",
      "0  <class 'keras.optimizers.Nadam'>             None  \n",
      "1  <class 'keras.optimizers.Nadam'>             None  \n",
      "2  <class 'keras.optimizers.Nadam'>             None  \n"
     ]
    },
    {
     "data": {
      "text/plain": [
       "experiment_name                    iris\n",
       "random_method          uniform_mersenne\n",
       "reduction_method                   None\n",
       "reduction_interval                   50\n",
       "reduction_window                     20\n",
       "reduction_threshold                 0.2\n",
       "reduction_metric                val_acc\n",
       "complete_time            11/15/19/12:22\n",
       "x_shape                        (150, 4)\n",
       "y_shape                        (150, 3)\n",
       "dtype: object"
      ]
     },
     "execution_count": 8,
     "metadata": {},
     "output_type": "execute_result"
    }
   ],
   "source": [
    "# accessing the results data frame\n",
    "scan_object.data.head()\n",
    "\n",
    "# accessing epoch entropy values for each round\n",
    "scan_object.learning_entropy\n",
    "\n",
    "# access the summary details\n",
    "scan_object.details"
   ]
  },
  {
   "cell_type": "markdown",
   "metadata": {},
   "source": [
    "In addition to statistics and meta-data related with the Scan, the used data (x and y) together with the saved model and model weights for each hyperparameter permutation is stored in the Scan object. "
   ]
  },
  {
   "cell_type": "code",
   "execution_count": 9,
   "metadata": {},
   "outputs": [
    {
     "data": {
      "text/plain": [
       "[[array([[-6.7165035e-01, -2.6424018e-01, -4.5079038e-01, -4.2806730e-02,\n",
       "          -3.7372541e-01, -2.6941356e-01, -2.8734407e-01, -5.5351496e-01],\n",
       "         [-1.0485907e+00,  3.1507939e-01,  1.4311469e-01,  1.1568025e+00,\n",
       "           5.1612824e-01,  1.2228505e-01, -3.5252213e-01, -8.7008506e-01],\n",
       "         [ 1.2110327e+00, -3.8799360e-01, -3.7157640e-01, -5.3956354e-01,\n",
       "           1.4614017e-03,  4.0592036e-01, -5.1203161e-01,  1.2053699e+00],\n",
       "         [ 1.9058460e+00,  6.9271535e-01,  1.6160047e-01, -1.8587023e+00,\n",
       "          -1.9171296e-01, -5.7453185e-01, -5.9432852e-01,  2.3225279e+00]],\n",
       "        dtype=float32),\n",
       "  array([-1.781821  ,  0.        ,  0.        ,  0.43290445, -0.17280588,\n",
       "         -0.0127013 ,  0.        , -1.661433  ], dtype=float32),\n",
       "  array([[-8.972377  , -0.9833832 ,  2.2459407 ],\n",
       "         [ 0.1183241 , -0.13187248,  0.5064724 ],\n",
       "         [ 0.7377797 ,  0.6353039 , -0.32688528],\n",
       "         [ 2.0960648 , -1.1195903 , -0.746247  ],\n",
       "         [-0.53324413, -0.6578035 ,  0.27434248],\n",
       "         [-0.5829264 , -0.4035947 ,  0.5560833 ],\n",
       "         [-0.24517044,  0.06596857, -0.05626601],\n",
       "         [-6.338769  ,  0.39498937,  1.0327814 ]], dtype=float32),\n",
       "  array([ 0.7650338,  0.7914731, -1.4231248], dtype=float32)],\n",
       " [array([[-0.16887882, -0.4903445 ,  0.69405335,  0.14750862,  0.90545535,\n",
       "          -0.32431686, -0.3611888 ,  0.05572838, -0.3577227 , -0.43513653,\n",
       "          -0.47263205,  0.6319022 , -0.3761675 , -0.36468446,  0.61735076,\n",
       "          -0.7112583 ],\n",
       "         [-0.4538353 , -0.29969588,  1.2163193 ,  1.2563778 ,  0.5570119 ,\n",
       "          -0.48320672, -0.39199784, -0.537021  ,  0.00775599,  0.14994782,\n",
       "           0.19795287,  1.0425143 , -0.41833922,  0.4226606 ,  0.4744298 ,\n",
       "          -0.9908597 ],\n",
       "         [ 0.29442763,  0.3900262 , -1.4464082 , -0.8494933 , -1.4830844 ,\n",
       "           1.0229372 ,  1.2719585 ,  0.00747859,  0.32924765, -0.38136268,\n",
       "          -0.50579065, -1.2000377 ,  0.5338806 , -0.08986634, -1.335563  ,\n",
       "           1.3088126 ],\n",
       "         [-0.12340742,  0.1790303 , -1.6851494 , -1.48756   , -1.3588092 ,\n",
       "           1.3188227 ,  1.1927011 , -0.45440727,  0.06895304,  0.0291332 ,\n",
       "          -0.17066342, -1.6072977 , -0.02760196, -0.15453342, -1.5186883 ,\n",
       "           2.3470857 ]], dtype=float32),\n",
       "  array([ 0.        ,  0.        ,  2.0347264 ,  0.32323942,  1.9497002 ,\n",
       "         -1.912733  , -1.2201395 ,  0.        ,  0.        ,  0.        ,\n",
       "          0.        ,  1.9998323 ,  0.        ,  0.        ,  1.1888257 ,\n",
       "         -2.5056605 ], dtype=float32),\n",
       "  array([[-0.32189646, -0.36803007, -0.14118147],\n",
       "         [ 0.23074812,  0.1754024 ,  0.295686  ],\n",
       "         [ 1.3285301 ,  0.89640176, -2.9033854 ],\n",
       "         [ 0.9733102 , -1.2017565 , -0.5437377 ],\n",
       "         [ 1.2385888 ,  1.0670702 , -3.543843  ],\n",
       "         [-2.309241  ,  0.19174185,  0.7305793 ],\n",
       "         [-3.2245066 ,  0.391131  ,  0.72801566],\n",
       "         [-0.37642044,  0.07162899,  0.2026937 ],\n",
       "         [-0.33486584, -0.26839906,  0.3903736 ],\n",
       "         [ 0.0794037 , -0.4522315 ,  0.40935266],\n",
       "         [-0.2260418 ,  0.5522788 , -0.22801143],\n",
       "         [ 1.4565864 ,  0.8752187 , -2.4837942 ],\n",
       "         [ 0.1562692 , -0.11288604, -0.5420527 ],\n",
       "         [ 0.46599692, -0.03098589,  0.04594016],\n",
       "         [ 1.6138234 , -0.25499934, -1.1742618 ],\n",
       "         [-1.8472177 , -0.49592346,  0.9763333 ]], dtype=float32),\n",
       "  array([-4.2317142 ,  0.64306533,  0.75571674], dtype=float32)],\n",
       " [array([[-0.08847502,  0.36503056, -0.47883356, -0.6533939 , -0.12025414,\n",
       "           0.04575013, -0.40720984, -0.38334286, -0.22150488,  0.49770665,\n",
       "           0.06683037,  0.4882187 ,  0.2533855 ,  0.30635613, -0.00237408,\n",
       "          -0.3914654 , -0.03741461, -0.22830679, -0.29448542, -0.09177672,\n",
       "          -0.09709105, -0.35888013, -0.40595102, -0.22833079,  0.15202057,\n",
       "          -0.10806876, -0.27819034,  0.45350733, -0.20619093,  0.12512533,\n",
       "          -0.1482923 ,  0.02442662],\n",
       "         [-0.3300823 ,  0.7327391 , -0.3649618 , -0.422611  , -0.50421244,\n",
       "          -0.38151184,  0.03666541, -0.19526131,  0.24477702,  0.47514912,\n",
       "          -0.62544906,  0.6164044 , -0.20938982, -0.5419108 , -0.00599033,\n",
       "          -0.10626447, -0.16377893, -0.32932124,  0.23077917, -0.5145015 ,\n",
       "          -0.04271007, -0.54439104, -0.18373843,  0.25960535,  0.5966818 ,\n",
       "          -0.3975592 ,  0.07681441,  0.7230747 ,  0.28464922, -0.43753698,\n",
       "          -0.37610978,  0.8381565 ],\n",
       "         [ 0.24459738, -0.7962771 ,  0.6468648 ,  1.0171248 ,  0.678505  ,\n",
       "           0.59506077, -0.00188333, -0.02020273,  0.04888347, -0.87028545,\n",
       "           0.67825   , -0.89603376, -0.45722702, -0.11015061, -0.16891028,\n",
       "          -0.17937641, -0.338283  ,  0.87452745,  0.04042631,  0.70811176,\n",
       "          -0.25372866,  0.7398922 ,  0.01195592,  0.0714264 , -0.626268  ,\n",
       "          -0.19478467,  0.10582066, -0.796614  , -0.0381692 , -0.06120897,\n",
       "          -0.28366256, -0.46866503],\n",
       "         [-0.22009218, -1.0425808 ,  1.0759962 ,  1.155846  ,  0.9169193 ,\n",
       "           0.60848194,  0.18157226,  0.08319622, -0.14199188, -1.0769693 ,\n",
       "           0.4463853 , -1.0425129 , -0.28301153, -0.36428174, -0.1202938 ,\n",
       "          -0.23009384, -0.15775093,  0.64511794,  0.16493577,  0.8568665 ,\n",
       "           0.37187374,  1.3640182 ,  0.11265063, -0.03494944, -1.0183707 ,\n",
       "           0.19474912,  0.12296194, -1.0318497 , -0.36745673, -0.32511693,\n",
       "          -0.2599634 , -1.0964127 ]], dtype=float32),\n",
       "  array([ 0.        ,  1.1916986 , -1.2523531 , -1.4332569 , -1.0063484 ,\n",
       "         -0.7141254 ,  0.        ,  0.        ,  0.        ,  1.2760322 ,\n",
       "         -0.66893464,  1.2942246 , -0.0629651 ,  0.19416063,  0.        ,\n",
       "          0.        ,  0.        , -0.7071936 ,  0.        , -1.084858  ,\n",
       "          0.        , -1.6589159 ,  0.        , -0.01859886,  0.75088257,\n",
       "          0.        ,  0.        ,  1.080502  , -0.03711357, -0.06751356,\n",
       "          0.        ,  0.33060706], dtype=float32),\n",
       "  array([[-7.37494230e-02, -2.67703712e-01,  4.98355031e-02],\n",
       "         [ 1.30538821e+00,  8.54590774e-01, -2.30426693e+00],\n",
       "         [-1.45012212e+00, -1.00664842e+00,  9.23807085e-01],\n",
       "         [-2.11348963e+00, -6.77611530e-01,  1.05519438e+00],\n",
       "         [-2.97704005e+00,  2.54520088e-01,  4.46781963e-01],\n",
       "         [-2.46563506e+00,  1.61293387e-01,  2.20268741e-01],\n",
       "         [-9.87356007e-02, -2.24921405e-02, -3.11548650e-01],\n",
       "         [ 1.25488669e-01, -1.22249722e-01,  2.15540916e-01],\n",
       "         [-1.73495188e-01,  3.62825364e-01, -2.82691121e-02],\n",
       "         [ 1.39933538e+00,  7.56900728e-01, -2.26756692e+00],\n",
       "         [-3.71808100e+00, -2.67508365e-02,  2.75947787e-02],\n",
       "         [ 1.45484710e+00,  7.16262043e-01, -2.47473335e+00],\n",
       "         [-3.66895705e-01,  1.30252331e-01, -2.41272733e-01],\n",
       "         [-2.64704049e-01,  3.29659045e-01,  3.15284468e-02],\n",
       "         [ 3.37453812e-01,  1.86776251e-01,  1.63704962e-01],\n",
       "         [-1.88233480e-01,  3.75976175e-01,  1.07046574e-01],\n",
       "         [-1.77666545e-03,  3.03819448e-01, -2.78708339e-01],\n",
       "         [-3.00434041e+00,  2.46627882e-01,  4.28359360e-01],\n",
       "         [ 1.59157246e-01,  9.36131179e-02,  1.27773911e-01],\n",
       "         [-2.94154906e+00, -3.64265405e-02,  1.92978859e-01],\n",
       "         [ 3.38169605e-01,  2.84350365e-01,  2.84381002e-01],\n",
       "         [-1.19992495e+00, -9.18825805e-01,  7.94902623e-01],\n",
       "         [-1.45918131e-02, -2.46089950e-01,  4.27384079e-02],\n",
       "         [-1.83308512e-01,  3.48567486e-01, -1.45020768e-01],\n",
       "         [ 2.09552646e+00,  1.06024913e-01, -2.00412130e+00],\n",
       "         [-1.83956072e-01,  3.29990536e-01,  1.12745017e-01],\n",
       "         [ 1.99056178e-01,  2.36578494e-01,  1.86032921e-01],\n",
       "         [ 1.15343463e+00,  5.82182944e-01, -2.61185956e+00],\n",
       "         [-1.24320991e-01,  5.79720289e-02,  2.08115354e-01],\n",
       "         [-2.49981061e-01, -2.95432419e-01, -3.49296302e-01],\n",
       "         [-2.89736062e-01, -2.18648255e-01, -3.54951322e-01],\n",
       "         [ 1.43213964e+00, -1.77996325e+00, -1.10043740e+00]], dtype=float32),\n",
       "  array([-1.0555459 ,  0.53550625, -0.24572904], dtype=float32)]]"
      ]
     },
     "execution_count": 9,
     "metadata": {},
     "output_type": "execute_result"
    }
   ],
   "source": [
    "# accessing the saved models\n",
    "scan_object.saved_models\n",
    "\n",
    "# accessing the saved weights for models\n",
    "scan_object.saved_weights"
   ]
  },
  {
   "cell_type": "markdown",
   "metadata": {},
   "source": [
    "The Scan object can be further used, and is required, as input for Predict(), Evaluate(), and Deploy(). More about this in the corresponding sections below."
   ]
  },
  {
   "cell_type": "markdown",
   "metadata": {},
   "source": [
    "### 6. Analysing the Scan results with <code>Reporting()</code> <a name=\"six\"></a> "
   ]
  },
  {
   "cell_type": "markdown",
   "metadata": {},
   "source": [
    "In the Scan process, the results are stored round-by-round in the corresponding experiment log which is a .csv file stored in the present working directory. The Reporting() accepts as its source either a file name, or the Scan object. "
   ]
  },
  {
   "cell_type": "code",
   "execution_count": 10,
   "metadata": {},
   "outputs": [],
   "source": [
    "# use Scan object as input\n",
    "analyze_object = talos.Analyze(scan_object)"
   ]
  },
  {
   "cell_type": "code",
   "execution_count": 11,
   "metadata": {},
   "outputs": [
    {
     "data": {
      "text/html": [
       "<div>\n",
       "<style scoped>\n",
       "    .dataframe tbody tr th:only-of-type {\n",
       "        vertical-align: middle;\n",
       "    }\n",
       "\n",
       "    .dataframe tbody tr th {\n",
       "        vertical-align: top;\n",
       "    }\n",
       "\n",
       "    .dataframe thead th {\n",
       "        text-align: right;\n",
       "    }\n",
       "</style>\n",
       "<table border=\"1\" class=\"dataframe\">\n",
       "  <thead>\n",
       "    <tr style=\"text-align: right;\">\n",
       "      <th></th>\n",
       "      <th>round_epochs</th>\n",
       "      <th>val_loss</th>\n",
       "      <th>val_acc</th>\n",
       "      <th>loss</th>\n",
       "      <th>acc</th>\n",
       "      <th>batch_size</th>\n",
       "      <th>dropout</th>\n",
       "      <th>epochs</th>\n",
       "      <th>first_neuron</th>\n",
       "      <th>last_activation</th>\n",
       "      <th>loss</th>\n",
       "      <th>lr</th>\n",
       "      <th>optimizer</th>\n",
       "      <th>weight_regulizer</th>\n",
       "    </tr>\n",
       "  </thead>\n",
       "  <tbody>\n",
       "    <tr>\n",
       "      <td>0</td>\n",
       "      <td>200</td>\n",
       "      <td>0.196426</td>\n",
       "      <td>0.977778</td>\n",
       "      <td>0.427386</td>\n",
       "      <td>0.771429</td>\n",
       "      <td>2</td>\n",
       "      <td>0.32</td>\n",
       "      <td>200</td>\n",
       "      <td>8</td>\n",
       "      <td>softmax</td>\n",
       "      <td>categorical_crossentropy</td>\n",
       "      <td>4.06</td>\n",
       "      <td>&lt;class 'keras.optimizers.Nadam'&gt;</td>\n",
       "      <td>None</td>\n",
       "    </tr>\n",
       "    <tr>\n",
       "      <td>1</td>\n",
       "      <td>200</td>\n",
       "      <td>0.182282</td>\n",
       "      <td>0.933333</td>\n",
       "      <td>0.092463</td>\n",
       "      <td>0.980952</td>\n",
       "      <td>3</td>\n",
       "      <td>0.16</td>\n",
       "      <td>200</td>\n",
       "      <td>16</td>\n",
       "      <td>softmax</td>\n",
       "      <td>categorical_crossentropy</td>\n",
       "      <td>7.03</td>\n",
       "      <td>&lt;class 'keras.optimizers.Nadam'&gt;</td>\n",
       "      <td>None</td>\n",
       "    </tr>\n",
       "    <tr>\n",
       "      <td>2</td>\n",
       "      <td>200</td>\n",
       "      <td>0.116601</td>\n",
       "      <td>0.933333</td>\n",
       "      <td>0.082208</td>\n",
       "      <td>0.971429</td>\n",
       "      <td>2</td>\n",
       "      <td>0.36</td>\n",
       "      <td>200</td>\n",
       "      <td>32</td>\n",
       "      <td>softmax</td>\n",
       "      <td>categorical_crossentropy</td>\n",
       "      <td>3.07</td>\n",
       "      <td>&lt;class 'keras.optimizers.Nadam'&gt;</td>\n",
       "      <td>None</td>\n",
       "    </tr>\n",
       "  </tbody>\n",
       "</table>\n",
       "</div>"
      ],
      "text/plain": [
       "   round_epochs  val_loss   val_acc      loss       acc  batch_size  dropout  \\\n",
       "0           200  0.196426  0.977778  0.427386  0.771429           2     0.32   \n",
       "1           200  0.182282  0.933333  0.092463  0.980952           3     0.16   \n",
       "2           200  0.116601  0.933333  0.082208  0.971429           2     0.36   \n",
       "\n",
       "   epochs  first_neuron last_activation                      loss    lr  \\\n",
       "0     200             8         softmax  categorical_crossentropy  4.06   \n",
       "1     200            16         softmax  categorical_crossentropy  7.03   \n",
       "2     200            32         softmax  categorical_crossentropy  3.07   \n",
       "\n",
       "                          optimizer weight_regulizer  \n",
       "0  <class 'keras.optimizers.Nadam'>             None  \n",
       "1  <class 'keras.optimizers.Nadam'>             None  \n",
       "2  <class 'keras.optimizers.Nadam'>             None  "
      ]
     },
     "execution_count": 11,
     "metadata": {},
     "output_type": "execute_result"
    }
   ],
   "source": [
    "# access the dataframe with the results\n",
    "analyze_object.data"
   ]
  },
  {
   "cell_type": "code",
   "execution_count": 12,
   "metadata": {},
   "outputs": [
    {
     "data": {
      "text/plain": [
       "round_epochs         NaN\n",
       "val_acc         0.636845\n",
       "batch_size      0.349276\n",
       "dropout        -0.520062\n",
       "epochs               NaN\n",
       "first_neuron   -0.986142\n",
       "lr              0.564116\n",
       "Name: val_loss, dtype: float64"
      ]
     },
     "execution_count": 12,
     "metadata": {},
     "output_type": "execute_result"
    }
   ],
   "source": [
    "# get the number of rounds in the Scan\n",
    "analyze_object.rounds()\n",
    "\n",
    "# get the highest result for any metric\n",
    "analyze_object.high('val_acc')\n",
    "\n",
    "# get the round with the best result\n",
    "analyze_object.rounds2high('val_acc')\n",
    "\n",
    "# get the best paramaters\n",
    "analyze_object.best_params('val_acc', ['acc', 'loss', 'val_loss'])\n",
    "\n",
    "# get correlation for hyperparameters against a metric\n",
    "analyze_object.correlate('val_loss', ['acc', 'loss', 'val_loss'])"
   ]
  },
  {
   "cell_type": "markdown",
   "metadata": {},
   "source": [
    "In addition to the key obsevations, several useful plots are available for analysis of the results."
   ]
  },
  {
   "cell_type": "code",
   "execution_count": 13,
   "metadata": {},
   "outputs": [
    {
     "data": {
      "image/png": "[encoded data removed]",
      "text/plain": [
       "<Figure size 720x475.2 with 1 Axes>"
      ]
     },
     "metadata": {},
     "output_type": "display_data"
    },
    {
     "data": {
      "image/png": "[encoded data removed]",
      "text/plain": [
       "<Figure size 864x475.2 with 1 Axes>"
      ]
     },
     "metadata": {},
     "output_type": "display_data"
    },
    {
     "data": {
      "image/png": "[encoded data removed]",
      "text/plain": [
       "<Figure size 720x475.2 with 1 Axes>"
      ]
     },
     "metadata": {},
     "output_type": "display_data"
    },
    {
     "data": {
      "image/png": "[encoded data removed]",
      "text/plain": [
       "<Figure size 720x475.2 with 1 Axes>"
      ]
     },
     "metadata": {},
     "output_type": "display_data"
    },
    {
     "data": {
      "image/png": "[encoded data removed]",
      "text/plain": [
       "<Figure size 684x684 with 2 Axes>"
      ]
     },
     "metadata": {},
     "output_type": "display_data"
    },
    {
     "data": {
      "image/png": "[encoded data removed]",
      "text/plain": [
       "<Figure size 1238x288 with 3 Axes>"
      ]
     },
     "metadata": {},
     "output_type": "display_data"
    }
   ],
   "source": [
    "# a regression plot for two dimensions \n",
    "analyze_object.plot_regs('val_acc', 'val_loss')\n",
    "\n",
    "# line plot\n",
    "analyze_object.plot_line('val_acc')\n",
    "\n",
    "# up to two dimensional kernel density estimator\n",
    "analyze_object.plot_kde('val_acc')\n",
    "\n",
    "# a simple histogram\n",
    "analyze_object.plot_hist('val_acc', bins=50)\n",
    "\n",
    "# heatmap correlation\n",
    "analyze_object.plot_corr('val_loss', ['acc', 'loss', 'val_loss'])\n",
    "\n",
    "# a four dimensional bar grid\n",
    "analyze_object.plot_bars('batch_size', 'val_acc', 'first_neuron', 'lr')"
   ]
  },
  {
   "cell_type": "markdown",
   "metadata": {},
   "source": [
    "### 7. Evaluating Models with <code>Evaluate()</code> <a name=\"seven\"></a> "
   ]
  },
  {
   "cell_type": "markdown",
   "metadata": {},
   "source": [
    "Models can be evaluated with <code>Evaluate()</code> against a k-fold cross-validation. Ideally at least 50% of the data, or more if possible, is kept completely out of the <code>Scan</code> process and only exposed into Evaluate once one or more candidate models have been identified."
   ]
  },
  {
   "cell_type": "code",
   "execution_count": 14,
   "metadata": {},
   "outputs": [
    {
     "data": {
      "text/plain": [
       "[1.0,\n",
       " 1.0,\n",
       " 0.9393939393939394,\n",
       " 1.0,\n",
       " 1.0,\n",
       " 1.0,\n",
       " 1.0,\n",
       " 1.0,\n",
       " 0.9220779220779222,\n",
       " 1.0]"
      ]
     },
     "execution_count": 14,
     "metadata": {},
     "output_type": "execute_result"
    }
   ],
   "source": [
    "evaluate_object = talos.Evaluate(scan_object)\n",
    "evaluate_object.evaluate(x, y, folds=10, metric='val_acc', task='multi_label')"
   ]
  },
  {
   "cell_type": "markdown",
   "metadata": {},
   "source": [
    "Once a sufficiently performing model have been found, a deployment package can be easily created."
   ]
  },
  {
   "cell_type": "markdown",
   "metadata": {},
   "source": [
    "### 8. Deploying Models with <code>Deploy()</code> <a name=\"eight\"></a> "
   ]
  },
  {
   "cell_type": "markdown",
   "metadata": {},
   "source": [
    "Once the right model or models have been found, you can create a deployment package with <code>Deploy()</code> which is then easy to transfer to a production or other environment, send via email, or upload to shared remote location. Best model is automatically chosen based on a given metric ('val_acc' by default).\n",
    "\n",
    "The Deploy package is a zip file that consist of: \n",
    "\n",
    "- details of the scan\n",
    "- model weights\n",
    "- model json\n",
    "- results of the experiment\n",
    "- sample of x data\n",
    "- sample of y data\n",
    "\n",
    "The <code>Deploy</code> package can be easily restored with <code>Restore()</code> which is covered in the next section."
   ]
  },
  {
   "cell_type": "code",
   "execution_count": 16,
   "metadata": {},
   "outputs": [
    {
     "name": "stdout",
     "output_type": "stream",
     "text": [
      "Deploy package iris_deploy have been saved.\n"
     ]
    }
   ],
   "source": [
    "talos.Deploy(scan_object=scan_object, model_name='iris_deploy', metric='val_acc');"
   ]
  },
  {
   "cell_type": "markdown",
   "metadata": {},
   "source": [
    "### 9. Restoring Models with <code>Restore()</code> <a name=\"nine\"></a> "
   ]
  },
  {
   "cell_type": "markdown",
   "metadata": {},
   "source": [
    "Models can be evaluated with <code>Evaluate()</code> against a k-fold cross-validation. Ideally at least 50% of the data, or more if possible, is kept completely out of the <code>Scan</code> process and only exposed into Evaluate once one or more candidate models have been identified."
   ]
  },
  {
   "cell_type": "code",
   "execution_count": 17,
   "metadata": {},
   "outputs": [],
   "source": [
    "iris = talos.Restore('iris_deploy.zip')"
   ]
  },
  {
   "cell_type": "markdown",
   "metadata": {},
   "source": [
    "The <code>Restore</code> object now consists of the assets from the Scan object originally associated with the experiment, together with the model that had been picked as 'best'. The model can be immediately used for making prediction, or use in any other other way Keras model objects can be used."
   ]
  },
  {
   "cell_type": "code",
   "execution_count": 18,
   "metadata": {},
   "outputs": [
    {
     "data": {
      "text/plain": [
       "array([[2.24559917e-04, 8.08504462e-01, 1.91270977e-01],\n",
       "       [6.20677928e-03, 8.46851766e-01, 1.46941483e-01],\n",
       "       [1.25033468e-01, 7.74674296e-01, 1.00292280e-01],\n",
       "       [9.99924898e-01, 5.60341832e-05, 1.91252384e-05],\n",
       "       [9.99393106e-01, 4.79392591e-04, 1.27521605e-04],\n",
       "       [9.99930620e-01, 5.16241598e-05, 1.77885377e-05],\n",
       "       [3.32180392e-32, 1.42759700e-05, 9.99985695e-01],\n",
       "       [9.99913812e-01, 6.45297987e-05, 2.16668432e-05],\n",
       "       [4.55306655e-08, 5.77681839e-01, 4.22318131e-01],\n",
       "       [1.10440994e-15, 2.93206722e-02, 9.70679343e-01],\n",
       "       [7.64979714e-13, 1.09528638e-01, 8.90471339e-01],\n",
       "       [9.99669194e-01, 2.57269479e-04, 7.35660215e-05],\n",
       "       [1.01002214e-10, 2.46664867e-01, 7.53335118e-01],\n",
       "       [2.88206676e-04, 8.12019348e-01, 1.87692508e-01],\n",
       "       [4.67526764e-01, 4.80052710e-01, 5.24205118e-02],\n",
       "       [1.40396565e-01, 7.62159109e-01, 9.74444002e-02],\n",
       "       [9.99632716e-01, 2.86300841e-04, 8.08571931e-05],\n",
       "       [9.99960184e-01, 2.91075194e-05, 1.07197775e-05],\n",
       "       [6.52507320e-02, 8.21071923e-01, 1.13677323e-01],\n",
       "       [9.99814689e-01, 1.41857221e-04, 4.34674803e-05],\n",
       "       [4.70854677e-02, 8.33694816e-01, 1.19219795e-01],\n",
       "       [9.99840021e-01, 1.21968922e-04, 3.80347155e-05],\n",
       "       [1.52559565e-09, 3.75989854e-01, 6.24010146e-01],\n",
       "       [3.35932411e-02, 8.41973901e-01, 1.24432825e-01],\n",
       "       [1.56120451e-13, 8.62126723e-02, 9.13787365e-01],\n",
       "       [9.99972582e-01, 1.98421658e-05, 7.63996468e-06],\n",
       "       [2.79335079e-23, 1.00516935e-03, 9.98994887e-01],\n",
       "       [1.20846800e-12, 8.61387849e-02, 9.13861215e-01],\n",
       "       [1.11409836e-03, 8.29793990e-01, 1.69091865e-01],\n",
       "       [2.60051049e-04, 8.10579062e-01, 1.89160973e-01],\n",
       "       [9.99937177e-01, 4.65982557e-05, 1.62488323e-05],\n",
       "       [7.93361068e-02, 8.10625136e-01, 1.10038832e-01],\n",
       "       [9.98865485e-01, 9.09803028e-04, 2.24650430e-04],\n",
       "       [2.65648741e-28, 9.66376174e-05, 9.99903321e-01],\n",
       "       [9.99856591e-01, 1.08901455e-04, 3.44095533e-05],\n",
       "       [2.74297741e-22, 1.67802989e-03, 9.98321950e-01],\n",
       "       [9.99896646e-01, 7.78185640e-05, 2.55667674e-05],\n",
       "       [4.02711962e-13, 9.64347646e-02, 9.03565288e-01],\n",
       "       [2.45078758e-04, 8.09743226e-01, 1.90011665e-01],\n",
       "       [1.66028296e-03, 8.34505677e-01, 1.63834125e-01],\n",
       "       [1.65363281e-17, 1.55634405e-02, 9.84436512e-01],\n",
       "       [9.99879479e-01, 9.10907693e-05, 2.93850189e-05],\n",
       "       [7.62121537e-15, 4.16360348e-02, 9.58364010e-01],\n",
       "       [1.18701039e-02, 8.49472582e-01, 1.38657287e-01],\n",
       "       [2.34077040e-23, 1.07778702e-03, 9.98922229e-01],\n",
       "       [8.06570388e-05, 7.93458641e-01, 2.06460655e-01],\n",
       "       [8.39151762e-05, 7.94058263e-01, 2.05857888e-01],\n",
       "       [9.99728620e-01, 2.09892401e-04, 6.14541277e-05],\n",
       "       [1.36844578e-16, 2.24964470e-02, 9.77503538e-01],\n",
       "       [6.09665440e-05, 7.89182544e-01, 2.10756496e-01],\n",
       "       [6.22078214e-12, 2.15421915e-01, 7.84578145e-01],\n",
       "       [2.26889422e-22, 1.90712104e-03, 9.98092830e-01],\n",
       "       [1.19356107e-17, 1.30316410e-02, 9.86968338e-01],\n",
       "       [6.69062516e-13, 1.16742767e-01, 8.83257210e-01],\n",
       "       [9.99942183e-01, 4.28082676e-05, 1.50749993e-05],\n",
       "       [4.11738869e-19, 8.76656920e-03, 9.91233408e-01],\n",
       "       [2.04397839e-18, 1.01159811e-02, 9.89884019e-01],\n",
       "       [9.99961615e-01, 2.79936685e-05, 1.03563743e-05],\n",
       "       [9.40456023e-15, 5.83778098e-02, 9.41622198e-01],\n",
       "       [2.42077422e-05, 7.74599850e-01, 2.25375965e-01],\n",
       "       [2.31544339e-09, 4.13677633e-01, 5.86322367e-01],\n",
       "       [9.99861240e-01, 1.05372979e-04, 3.34222641e-05],\n",
       "       [6.14665675e-22, 1.99542195e-03, 9.98004615e-01],\n",
       "       [4.14535229e-04, 8.17021489e-01, 1.82563975e-01],\n",
       "       [6.21369749e-04, 8.22411895e-01, 1.76966727e-01],\n",
       "       [2.43469507e-14, 6.55362159e-02, 9.34463739e-01],\n",
       "       [5.48446551e-04, 8.20771098e-01, 1.78680524e-01],\n",
       "       [4.67526764e-01, 4.80052710e-01, 5.24205118e-02],\n",
       "       [9.99538422e-01, 3.62091843e-04, 9.95103183e-05],\n",
       "       [5.04535436e-09, 4.44536418e-01, 5.55463612e-01],\n",
       "       [2.99524932e-22, 1.68816454e-03, 9.98311877e-01],\n",
       "       [1.11767255e-16, 2.23699529e-02, 9.77630019e-01],\n",
       "       [9.02833301e-04, 8.27195287e-01, 1.71901822e-01],\n",
       "       [3.32236226e-07, 6.53052330e-01, 3.46947372e-01],\n",
       "       [1.08093990e-16, 1.77241750e-02, 9.82275844e-01],\n",
       "       [9.99995112e-01, 3.34655738e-06, 1.58433647e-06],\n",
       "       [9.99965310e-01, 2.52185182e-05, 9.44347084e-06],\n",
       "       [3.34323309e-02, 8.42063665e-01, 1.24503963e-01],\n",
       "       [2.91292598e-12, 1.32521346e-01, 8.67478669e-01],\n",
       "       [1.13009328e-05, 7.62044907e-01, 2.37943813e-01],\n",
       "       [9.99903083e-01, 7.28511950e-05, 2.41188136e-05],\n",
       "       [7.94326063e-11, 2.17240199e-01, 7.82759786e-01],\n",
       "       [9.99841690e-01, 1.20646138e-04, 3.76698954e-05],\n",
       "       [1.48529963e-07, 5.95331490e-01, 4.04668331e-01],\n",
       "       [9.99672890e-01, 2.54331331e-04, 7.28229643e-05],\n",
       "       [1.59997307e-02, 8.49247932e-01, 1.34752333e-01],\n",
       "       [9.99990702e-01, 6.42613713e-06, 2.82033807e-06],\n",
       "       [4.60358140e-11, 2.48881504e-01, 7.51118422e-01],\n",
       "       [9.99901652e-01, 7.38608505e-05, 2.44140228e-05],\n",
       "       [9.99772727e-01, 1.74945570e-04, 5.23169620e-05],\n",
       "       [5.65588570e-19, 7.48840952e-03, 9.92511630e-01],\n",
       "       [3.05587701e-21, 2.90975464e-03, 9.97090220e-01],\n",
       "       [1.16938871e-23, 7.90542923e-04, 9.99209404e-01],\n",
       "       [3.73732116e-21, 2.38387752e-03, 9.97616172e-01],\n",
       "       [8.53146006e-20, 5.51745994e-03, 9.94482517e-01],\n",
       "       [9.99511719e-01, 3.83555569e-04, 1.04706371e-04],\n",
       "       [1.20855364e-17, 1.26462169e-02, 9.87353742e-01],\n",
       "       [1.55730499e-02, 8.49317193e-01, 1.35109827e-01],\n",
       "       [1.58442556e-19, 4.43822518e-03, 9.95561719e-01],\n",
       "       [9.99810517e-01, 1.45118072e-04, 4.43494828e-05],\n",
       "       [3.84115090e-04, 8.15984666e-01, 1.83631197e-01],\n",
       "       [9.41811964e-17, 1.66756865e-02, 9.83324289e-01],\n",
       "       [9.99893188e-01, 8.05026575e-05, 2.63446909e-05],\n",
       "       [1.49040073e-02, 8.49407315e-01, 1.35688692e-01],\n",
       "       [3.48263973e-04, 8.14642191e-01, 1.85009524e-01],\n",
       "       [5.56736346e-03, 8.46112132e-01, 1.48320481e-01],\n",
       "       [6.03111809e-19, 6.01451844e-03, 9.93985474e-01],\n",
       "       [9.99863029e-01, 1.03964434e-04, 3.30270814e-05],\n",
       "       [9.99995470e-01, 3.04784044e-06, 1.45866625e-06],\n",
       "       [7.96218895e-23, 1.11228146e-03, 9.98887718e-01],\n",
       "       [9.41811964e-17, 1.66756865e-02, 9.83324289e-01],\n",
       "       [4.49939174e-12, 1.17029950e-01, 8.82970095e-01],\n",
       "       [1.08762046e-13, 5.73190637e-02, 9.42680895e-01],\n",
       "       [9.80508630e-05, 7.96401739e-01, 2.03500152e-01],\n",
       "       [9.99180615e-01, 6.51966489e-04, 1.67341466e-04],\n",
       "       [9.99888301e-01, 8.42998634e-05, 2.74400809e-05],\n",
       "       [9.99841690e-01, 1.20646138e-04, 3.76698954e-05],\n",
       "       [9.99727905e-01, 2.10428785e-04, 6.15929093e-05],\n",
       "       [9.99841690e-01, 1.20646138e-04, 3.76698954e-05],\n",
       "       [1.26311660e-03, 8.31309497e-01, 1.67427331e-01],\n",
       "       [3.07414569e-02, 8.43523026e-01, 1.25735536e-01],\n",
       "       [1.20231005e-06, 6.94943190e-01, 3.05055499e-01],\n",
       "       [9.99868393e-01, 9.97591851e-05, 3.18434722e-05],\n",
       "       [3.95147413e-01, 5.43800592e-01, 6.10519648e-02],\n",
       "       [4.67526764e-01, 4.80052710e-01, 5.24205118e-02],\n",
       "       [9.99958634e-01, 3.03253746e-05, 1.11152594e-05],\n",
       "       [9.99980807e-01, 1.37623356e-05, 5.52895472e-06],\n",
       "       [6.75694421e-02, 8.19383621e-01, 1.13046952e-01],\n",
       "       [1.16602890e-03, 8.30347240e-01, 1.68486685e-01],\n",
       "       [6.98961038e-03, 8.47576678e-01, 1.45433739e-01],\n",
       "       [9.99893785e-01, 7.99658665e-05, 2.61893711e-05],\n",
       "       [9.99992371e-01, 5.18717161e-06, 2.33389778e-06],\n",
       "       [1.02707395e-06, 7.19555378e-01, 2.80443609e-01],\n",
       "       [9.99915838e-01, 6.29573551e-05, 2.11994993e-05],\n",
       "       [2.57078153e-24, 5.52329933e-04, 9.99447644e-01],\n",
       "       [9.99882460e-01, 8.88439827e-05, 2.87434632e-05],\n",
       "       [1.07757339e-22, 1.23467145e-03, 9.98765349e-01],\n",
       "       [9.08914804e-02, 8.01775336e-01, 1.07333146e-01],\n",
       "       [1.86465532e-09, 3.92091364e-01, 6.07908666e-01],\n",
       "       [8.04070117e-19, 8.42912681e-03, 9.91570830e-01],\n",
       "       [9.99948382e-01, 3.80268648e-05, 1.35766495e-05],\n",
       "       [4.67526764e-01, 4.80052710e-01, 5.24205118e-02],\n",
       "       [7.29728413e-16, 2.64947023e-02, 9.73505378e-01],\n",
       "       [9.99656439e-01, 2.67429044e-04, 7.61279225e-05],\n",
       "       [4.67526764e-01, 4.80052710e-01, 5.24205118e-02],\n",
       "       [2.93388148e-04, 8.12267780e-01, 1.87438786e-01],\n",
       "       [9.99854803e-01, 1.10343113e-04, 3.48119138e-05],\n",
       "       [3.46411556e-01, 5.86444497e-01, 6.71439469e-02],\n",
       "       [9.93754566e-01, 5.19772526e-03, 1.04770972e-03],\n",
       "       [9.99965787e-01, 2.48737906e-05, 9.32928197e-06]], dtype=float32)"
      ]
     },
     "execution_count": 18,
     "metadata": {},
     "output_type": "execute_result"
    }
   ],
   "source": [
    "# make predictions with the model\n",
    "iris.model.predict(x)"
   ]
  },
  {
   "cell_type": "markdown",
   "metadata": {},
   "source": [
    "In addition, for book keeping purpose, and for simplicity of sharing models with team members and other stakeholders, various attributes are included in the <code>Restore</code> object:"
   ]
  },
  {
   "cell_type": "code",
   "execution_count": 19,
   "metadata": {},
   "outputs": [
    {
     "data": {
      "text/html": [
       "<div>\n",
       "<style scoped>\n",
       "    .dataframe tbody tr th:only-of-type {\n",
       "        vertical-align: middle;\n",
       "    }\n",
       "\n",
       "    .dataframe tbody tr th {\n",
       "        vertical-align: top;\n",
       "    }\n",
       "\n",
       "    .dataframe thead th {\n",
       "        text-align: right;\n",
       "    }\n",
       "</style>\n",
       "<table border=\"1\" class=\"dataframe\">\n",
       "  <thead>\n",
       "    <tr style=\"text-align: right;\">\n",
       "      <th></th>\n",
       "      <th>0</th>\n",
       "      <th>1</th>\n",
       "    </tr>\n",
       "  </thead>\n",
       "  <tbody>\n",
       "    <tr>\n",
       "      <td>0</td>\n",
       "      <td>experiment_name</td>\n",
       "      <td>iris</td>\n",
       "    </tr>\n",
       "    <tr>\n",
       "      <td>1</td>\n",
       "      <td>random_method</td>\n",
       "      <td>uniform_mersenne</td>\n",
       "    </tr>\n",
       "    <tr>\n",
       "      <td>2</td>\n",
       "      <td>reduction_method</td>\n",
       "      <td>NaN</td>\n",
       "    </tr>\n",
       "    <tr>\n",
       "      <td>3</td>\n",
       "      <td>reduction_interval</td>\n",
       "      <td>50</td>\n",
       "    </tr>\n",
       "    <tr>\n",
       "      <td>4</td>\n",
       "      <td>reduction_window</td>\n",
       "      <td>20</td>\n",
       "    </tr>\n",
       "    <tr>\n",
       "      <td>5</td>\n",
       "      <td>reduction_threshold</td>\n",
       "      <td>0.2</td>\n",
       "    </tr>\n",
       "    <tr>\n",
       "      <td>6</td>\n",
       "      <td>reduction_metric</td>\n",
       "      <td>val_acc</td>\n",
       "    </tr>\n",
       "    <tr>\n",
       "      <td>7</td>\n",
       "      <td>complete_time</td>\n",
       "      <td>11/15/19/12:22</td>\n",
       "    </tr>\n",
       "    <tr>\n",
       "      <td>8</td>\n",
       "      <td>x_shape</td>\n",
       "      <td>(150, 4)</td>\n",
       "    </tr>\n",
       "    <tr>\n",
       "      <td>9</td>\n",
       "      <td>y_shape</td>\n",
       "      <td>(150, 3)</td>\n",
       "    </tr>\n",
       "  </tbody>\n",
       "</table>\n",
       "</div>"
      ],
      "text/plain": [
       "                     0                 1\n",
       "0      experiment_name              iris\n",
       "1        random_method  uniform_mersenne\n",
       "2     reduction_method               NaN\n",
       "3   reduction_interval                50\n",
       "4     reduction_window                20\n",
       "5  reduction_threshold               0.2\n",
       "6     reduction_metric           val_acc\n",
       "7        complete_time    11/15/19/12:22\n",
       "8              x_shape          (150, 4)\n",
       "9              y_shape          (150, 3)"
      ]
     },
     "execution_count": 19,
     "metadata": {},
     "output_type": "execute_result"
    }
   ],
   "source": [
    "# get the meta-data for the experiment\n",
    "iris.details"
   ]
  },
  {
   "cell_type": "code",
   "execution_count": 20,
   "metadata": {},
   "outputs": [
    {
     "data": {
      "text/plain": [
       "{'lr': (0.1, 10, 10),\n",
       " 'first_neuron': [4, 8, 16, 32, 64, 128],\n",
       " 'batch_size': [2, 3, 4],\n",
       " 'epochs': [200],\n",
       " 'dropout': (0, 0.4, 10),\n",
       " 'optimizer': [keras.optimizers.Adam, keras.optimizers.Nadam],\n",
       " 'loss': ['categorical_crossentropy'],\n",
       " 'last_activation': ['softmax'],\n",
       " 'weight_regulizer': [None]}"
      ]
     },
     "execution_count": 20,
     "metadata": {},
     "output_type": "execute_result"
    }
   ],
   "source": [
    "# get the hyperparameter space boundary\n",
    "iris.params"
   ]
  },
  {
   "cell_type": "code",
   "execution_count": 21,
   "metadata": {},
   "outputs": [
    {
     "data": {
      "text/html": [
       "<div>\n",
       "<style scoped>\n",
       "    .dataframe tbody tr th:only-of-type {\n",
       "        vertical-align: middle;\n",
       "    }\n",
       "\n",
       "    .dataframe tbody tr th {\n",
       "        vertical-align: top;\n",
       "    }\n",
       "\n",
       "    .dataframe thead th {\n",
       "        text-align: right;\n",
       "    }\n",
       "</style>\n",
       "<table border=\"1\" class=\"dataframe\">\n",
       "  <thead>\n",
       "    <tr style=\"text-align: right;\">\n",
       "      <th></th>\n",
       "      <th>0</th>\n",
       "      <th>1</th>\n",
       "      <th>2</th>\n",
       "    </tr>\n",
       "  </thead>\n",
       "  <tbody>\n",
       "    <tr>\n",
       "      <td>0</td>\n",
       "      <td>1.0</td>\n",
       "      <td>0.0</td>\n",
       "      <td>0.0</td>\n",
       "    </tr>\n",
       "    <tr>\n",
       "      <td>1</td>\n",
       "      <td>1.0</td>\n",
       "      <td>0.0</td>\n",
       "      <td>0.0</td>\n",
       "    </tr>\n",
       "    <tr>\n",
       "      <td>2</td>\n",
       "      <td>1.0</td>\n",
       "      <td>0.0</td>\n",
       "      <td>0.0</td>\n",
       "    </tr>\n",
       "    <tr>\n",
       "      <td>3</td>\n",
       "      <td>0.0</td>\n",
       "      <td>0.0</td>\n",
       "      <td>1.0</td>\n",
       "    </tr>\n",
       "    <tr>\n",
       "      <td>4</td>\n",
       "      <td>0.0</td>\n",
       "      <td>1.0</td>\n",
       "      <td>0.0</td>\n",
       "    </tr>\n",
       "    <tr>\n",
       "      <td>...</td>\n",
       "      <td>...</td>\n",
       "      <td>...</td>\n",
       "      <td>...</td>\n",
       "    </tr>\n",
       "    <tr>\n",
       "      <td>95</td>\n",
       "      <td>0.0</td>\n",
       "      <td>0.0</td>\n",
       "      <td>1.0</td>\n",
       "    </tr>\n",
       "    <tr>\n",
       "      <td>96</td>\n",
       "      <td>0.0</td>\n",
       "      <td>0.0</td>\n",
       "      <td>1.0</td>\n",
       "    </tr>\n",
       "    <tr>\n",
       "      <td>97</td>\n",
       "      <td>0.0</td>\n",
       "      <td>1.0</td>\n",
       "      <td>0.0</td>\n",
       "    </tr>\n",
       "    <tr>\n",
       "      <td>98</td>\n",
       "      <td>1.0</td>\n",
       "      <td>0.0</td>\n",
       "      <td>0.0</td>\n",
       "    </tr>\n",
       "    <tr>\n",
       "      <td>99</td>\n",
       "      <td>1.0</td>\n",
       "      <td>0.0</td>\n",
       "      <td>0.0</td>\n",
       "    </tr>\n",
       "  </tbody>\n",
       "</table>\n",
       "<p>100 rows × 3 columns</p>\n",
       "</div>"
      ],
      "text/plain": [
       "      0    1    2\n",
       "0   1.0  0.0  0.0\n",
       "1   1.0  0.0  0.0\n",
       "2   1.0  0.0  0.0\n",
       "3   0.0  0.0  1.0\n",
       "4   0.0  1.0  0.0\n",
       "..  ...  ...  ...\n",
       "95  0.0  0.0  1.0\n",
       "96  0.0  0.0  1.0\n",
       "97  0.0  1.0  0.0\n",
       "98  1.0  0.0  0.0\n",
       "99  1.0  0.0  0.0\n",
       "\n",
       "[100 rows x 3 columns]"
      ]
     },
     "execution_count": 21,
     "metadata": {},
     "output_type": "execute_result"
    }
   ],
   "source": [
    "# sample of x and y data\n",
    "iris.x\n",
    "iris.y"
   ]
  },
  {
   "cell_type": "code",
   "execution_count": 22,
   "metadata": {},
   "outputs": [
    {
     "data": {
      "text/html": [
       "<div>\n",
       "<style scoped>\n",
       "    .dataframe tbody tr th:only-of-type {\n",
       "        vertical-align: middle;\n",
       "    }\n",
       "\n",
       "    .dataframe tbody tr th {\n",
       "        vertical-align: top;\n",
       "    }\n",
       "\n",
       "    .dataframe thead th {\n",
       "        text-align: right;\n",
       "    }\n",
       "</style>\n",
       "<table border=\"1\" class=\"dataframe\">\n",
       "  <thead>\n",
       "    <tr style=\"text-align: right;\">\n",
       "      <th></th>\n",
       "      <th>round_epochs</th>\n",
       "      <th>val_loss</th>\n",
       "      <th>val_acc</th>\n",
       "      <th>loss</th>\n",
       "      <th>acc</th>\n",
       "      <th>batch_size</th>\n",
       "      <th>dropout</th>\n",
       "      <th>epochs</th>\n",
       "      <th>first_neuron</th>\n",
       "      <th>last_activation</th>\n",
       "      <th>loss.1</th>\n",
       "      <th>lr</th>\n",
       "      <th>optimizer</th>\n",
       "      <th>weight_regulizer</th>\n",
       "      <th>Unnamed: 15</th>\n",
       "    </tr>\n",
       "  </thead>\n",
       "  <tbody>\n",
       "    <tr>\n",
       "      <td>0</td>\n",
       "      <td>200</td>\n",
       "      <td>0.196426</td>\n",
       "      <td>0.977778</td>\n",
       "      <td>0.427386</td>\n",
       "      <td>0.771429</td>\n",
       "      <td>2</td>\n",
       "      <td>0.32</td>\n",
       "      <td>200</td>\n",
       "      <td>8</td>\n",
       "      <td>softmax</td>\n",
       "      <td>categorical_crossentropy</td>\n",
       "      <td>4.06</td>\n",
       "      <td>&lt;class 'keras.optimizers.Nadam'&gt;</td>\n",
       "      <td>NaN</td>\n",
       "      <td>0</td>\n",
       "    </tr>\n",
       "    <tr>\n",
       "      <td>1</td>\n",
       "      <td>200</td>\n",
       "      <td>0.182282</td>\n",
       "      <td>0.933333</td>\n",
       "      <td>0.092463</td>\n",
       "      <td>0.980952</td>\n",
       "      <td>3</td>\n",
       "      <td>0.16</td>\n",
       "      <td>200</td>\n",
       "      <td>16</td>\n",
       "      <td>softmax</td>\n",
       "      <td>categorical_crossentropy</td>\n",
       "      <td>7.03</td>\n",
       "      <td>&lt;class 'keras.optimizers.Nadam'&gt;</td>\n",
       "      <td>NaN</td>\n",
       "      <td>1</td>\n",
       "    </tr>\n",
       "    <tr>\n",
       "      <td>2</td>\n",
       "      <td>200</td>\n",
       "      <td>0.116601</td>\n",
       "      <td>0.933333</td>\n",
       "      <td>0.082208</td>\n",
       "      <td>0.971429</td>\n",
       "      <td>2</td>\n",
       "      <td>0.36</td>\n",
       "      <td>200</td>\n",
       "      <td>32</td>\n",
       "      <td>softmax</td>\n",
       "      <td>categorical_crossentropy</td>\n",
       "      <td>3.07</td>\n",
       "      <td>&lt;class 'keras.optimizers.Nadam'&gt;</td>\n",
       "      <td>NaN</td>\n",
       "      <td>2</td>\n",
       "    </tr>\n",
       "  </tbody>\n",
       "</table>\n",
       "</div>"
      ],
      "text/plain": [
       "   round_epochs  val_loss   val_acc      loss       acc  batch_size  dropout  \\\n",
       "0           200  0.196426  0.977778  0.427386  0.771429           2     0.32   \n",
       "1           200  0.182282  0.933333  0.092463  0.980952           3     0.16   \n",
       "2           200  0.116601  0.933333  0.082208  0.971429           2     0.36   \n",
       "\n",
       "   epochs  first_neuron last_activation                    loss.1    lr  \\\n",
       "0     200             8         softmax  categorical_crossentropy  4.06   \n",
       "1     200            16         softmax  categorical_crossentropy  7.03   \n",
       "2     200            32         softmax  categorical_crossentropy  3.07   \n",
       "\n",
       "                          optimizer  weight_regulizer  Unnamed: 15  \n",
       "0  <class 'keras.optimizers.Nadam'>               NaN            0  \n",
       "1  <class 'keras.optimizers.Nadam'>               NaN            1  \n",
       "2  <class 'keras.optimizers.Nadam'>               NaN            2  "
      ]
     },
     "execution_count": 22,
     "metadata": {},
     "output_type": "execute_result"
    }
   ],
   "source": [
    "# the results dataframe\n",
    "iris.results"
   ]
  },
  {
   "cell_type": "markdown",
   "metadata": {},
   "source": [
    "\n",
    "<img align=left src='https://img00.deviantart.net/920c/i/2014/137/a/2/pinkie_pie_thats_all_folks_by_dan232323-d7ipnd4.jpg' width=400>"
   ]
  },
  {
   "cell_type": "markdown",
   "metadata": {},
   "source": [
    "Back to the repository page >> http://github.com/autonomio/talos"
   ]
  }
 ],
 "metadata": {
  "kernelspec": {
   "display_name": "Python 3",
   "language": "python",
   "name": "python3"
  },
  "language_info": {
   "codemirror_mode": {
    "name": "ipython",
    "version": 3
   },
   "file_extension": ".py",
   "mimetype": "text/x-python",
   "name": "python",
   "nbconvert_exporter": "python",
   "pygments_lexer": "ipython3",
   "version": "3.7.4"
  }
 },
 "nbformat": 4,
 "nbformat_minor": 2
}
